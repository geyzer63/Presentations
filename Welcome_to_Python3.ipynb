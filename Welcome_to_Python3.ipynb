{
 "cells": [
  {
   "cell_type": "markdown",
   "id": "66ebef7f",
   "metadata": {
    "slideshow": {
     "slide_type": "slide"
    }
   },
   "source": [
    "# Welcome To Python3\n",
    "## Pitfalls and goodies"
   ]
  },
  {
   "cell_type": "markdown",
   "id": "41ea3030",
   "metadata": {
    "slideshow": {
     "slide_type": "fragment"
    }
   },
   "source": [
    "Dont' worry - there are few pitfalls and many goodies 😀"
   ]
  },
  {
   "cell_type": "markdown",
   "id": "fe8f508c",
   "metadata": {
    "slideshow": {
     "slide_type": "slide"
    }
   },
   "source": [
    "# Potential Pitfalls\n",
    "- Float and integer division\n",
    "- No more lists (I will imediately explain)"
   ]
  },
  {
   "cell_type": "markdown",
   "id": "db551370",
   "metadata": {
    "slideshow": {
     "slide_type": "slide"
    }
   },
   "source": [
    "## Division\n",
    "When a division between 2 integers may produce a float result:\n",
    "- Python2 would yield integer result\n",
    "- Python3 - float\n",
    "- for integer division - use double slash **//**"
   ]
  },
  {
   "cell_type": "code",
   "execution_count": 1,
   "id": "f3c0470c",
   "metadata": {
    "slideshow": {
     "slide_type": "fragment"
    }
   },
   "outputs": [
    {
     "data": {
      "text/plain": [
       "0.6"
      ]
     },
     "execution_count": 1,
     "metadata": {},
     "output_type": "execute_result"
    }
   ],
   "source": [
    "# In Python2, you would get 0\n",
    "3 / 5"
   ]
  },
  {
   "cell_type": "code",
   "execution_count": 2,
   "id": "46f1a441",
   "metadata": {
    "slideshow": {
     "slide_type": "fragment"
    }
   },
   "outputs": [
    {
     "data": {
      "text/plain": [
       "0.0"
      ]
     },
     "execution_count": 2,
     "metadata": {},
     "output_type": "execute_result"
    }
   ],
   "source": [
    "# Even though the divisor - and the result - are floats...\n",
    "3 // 5."
   ]
  },
  {
   "cell_type": "markdown",
   "id": "58b54213",
   "metadata": {
    "slideshow": {
     "slide_type": "slide"
    }
   },
   "source": [
    "## No more lists"
   ]
  },
  {
   "cell_type": "markdown",
   "id": "aad13bc4",
   "metadata": {
    "slideshow": {
     "slide_type": "fragment"
    }
   },
   "source": [
    "**Python3 is about lazy evaluations**\n",
    "\n",
    "*map*, *filter*, *zip*:\n",
    "- Lists in Python2\n",
    "- Generators in Python3"
   ]
  },
  {
   "cell_type": "code",
   "execution_count": 3,
   "id": "29986dc6",
   "metadata": {
    "slideshow": {
     "slide_type": "slide"
    }
   },
   "outputs": [
    {
     "name": "stdout",
     "output_type": "stream",
     "text": [
      "1\n",
      "[2, 3, 4, 5, 6]\n",
      "[]\n"
     ]
    }
   ],
   "source": [
    "mapped = map(int, '123456')\n",
    "print(next(mapped), list(mapped), list(mapped), sep='\\n')"
   ]
  },
  {
   "cell_type": "code",
   "execution_count": 4,
   "id": "38ad2c02",
   "metadata": {
    "scrolled": true,
    "slideshow": {
     "slide_type": "fragment"
    }
   },
   "outputs": [
    {
     "name": "stdout",
     "output_type": "stream",
     "text": [
      "(1, 6)\n",
      "[(2, 7), (3, 8), (4, 9), (5, 10)]\n",
      "[]\n"
     ]
    }
   ],
   "source": [
    "zipped = zip(range(1, 6), range(6, 11))\n",
    "print(next(zipped), list(zipped), list(zipped), sep='\\n')"
   ]
  },
  {
   "cell_type": "markdown",
   "id": "dcd055b3",
   "metadata": {
    "slideshow": {
     "slide_type": "slide"
    }
   },
   "source": [
    "## *dict.items* and *dict.values* - strange iterables\n",
    "The are no longer lists, but what are they?"
   ]
  },
  {
   "cell_type": "code",
   "execution_count": 5,
   "id": "ff9ff6ae",
   "metadata": {
    "slideshow": {
     "slide_type": "fragment"
    }
   },
   "outputs": [
    {
     "name": "stdout",
     "output_type": "stream",
     "text": [
      "[('strange', 'iterable'), ('generator', 'it is not')]\n",
      "[('strange', 'iterable'), ('generator', 'it is not')]\n"
     ]
    }
   ],
   "source": [
    "# Definitely not a generator\n",
    "dict_  = {'strange': 'iterable', 'generator': 'it is not'}\n",
    "items = dict_.items()\n",
    "print(list(items), list(items), sep='\\n')"
   ]
  },
  {
   "cell_type": "code",
   "execution_count": 6,
   "id": "55c5f963",
   "metadata": {
    "slideshow": {
     "slide_type": "slide"
    }
   },
   "outputs": [
    {
     "name": "stdout",
     "output_type": "stream",
     "text": [
      "['iterable', 'it is not']\n",
      "['iterable', 'it is not']\n"
     ]
    }
   ],
   "source": [
    "values = dict_.values()\n",
    "print(list(values), list(values), sep='\\n')"
   ]
  },
  {
   "cell_type": "code",
   "execution_count": 7,
   "id": "68812241",
   "metadata": {
    "scrolled": true,
    "slideshow": {
     "slide_type": "subslide"
    }
   },
   "outputs": [
    {
     "ename": "TypeError",
     "evalue": "'dict_items' object is not an iterator",
     "output_type": "error",
     "traceback": [
      "\u001b[1;31m---------------------------------------------------------------------------\u001b[0m",
      "\u001b[1;31mTypeError\u001b[0m                                 Traceback (most recent call last)",
      "\u001b[1;32m<ipython-input-7-09116fd1e3a5>\u001b[0m in \u001b[0;36m<module>\u001b[1;34m\u001b[0m\n\u001b[0;32m      1\u001b[0m \u001b[1;31m# Not an iterator either\u001b[0m\u001b[1;33m\u001b[0m\u001b[1;33m\u001b[0m\u001b[1;33m\u001b[0m\u001b[0m\n\u001b[1;32m----> 2\u001b[1;33m \u001b[0mnext\u001b[0m\u001b[1;33m(\u001b[0m\u001b[0mitems\u001b[0m\u001b[1;33m)\u001b[0m\u001b[1;33m\u001b[0m\u001b[1;33m\u001b[0m\u001b[0m\n\u001b[0m",
      "\u001b[1;31mTypeError\u001b[0m: 'dict_items' object is not an iterator"
     ]
    }
   ],
   "source": [
    "# Not an iterator either\n",
    "next(items)"
   ]
  },
  {
   "cell_type": "code",
   "execution_count": 8,
   "id": "c71c3f64",
   "metadata": {
    "slideshow": {
     "slide_type": "fragment"
    }
   },
   "outputs": [
    {
     "ename": "TypeError",
     "evalue": "'dict_values' object is not subscriptable",
     "output_type": "error",
     "traceback": [
      "\u001b[1;31m---------------------------------------------------------------------------\u001b[0m",
      "\u001b[1;31mTypeError\u001b[0m                                 Traceback (most recent call last)",
      "\u001b[1;32m<ipython-input-8-a7a07622990e>\u001b[0m in \u001b[0;36m<module>\u001b[1;34m\u001b[0m\n\u001b[0;32m      1\u001b[0m \u001b[1;31m# Cannot be accessed by index\u001b[0m\u001b[1;33m\u001b[0m\u001b[1;33m\u001b[0m\u001b[1;33m\u001b[0m\u001b[0m\n\u001b[1;32m----> 2\u001b[1;33m \u001b[0mvalues\u001b[0m\u001b[1;33m[\u001b[0m\u001b[1;36m0\u001b[0m\u001b[1;33m]\u001b[0m\u001b[1;33m\u001b[0m\u001b[1;33m\u001b[0m\u001b[0m\n\u001b[0m",
      "\u001b[1;31mTypeError\u001b[0m: 'dict_values' object is not subscriptable"
     ]
    }
   ],
   "source": [
    "# Cannot be accessed by index\n",
    "values[0]"
   ]
  },
  {
   "cell_type": "markdown",
   "id": "8de22c87",
   "metadata": {
    "slideshow": {
     "slide_type": "slide"
    }
   },
   "source": [
    "#### *range* Is No Longer List\n"
   ]
  },
  {
   "cell_type": "code",
   "execution_count": 9,
   "id": "0b59919d",
   "metadata": {
    "slideshow": {
     "slide_type": "fragment"
    }
   },
   "outputs": [
    {
     "data": {
      "text/plain": [
       "range"
      ]
     },
     "execution_count": 9,
     "metadata": {},
     "output_type": "execute_result"
    }
   ],
   "source": [
    "range10 = range(10)\n",
    "type(range10)"
   ]
  },
  {
   "cell_type": "markdown",
   "id": "de3f371d",
   "metadata": {},
   "source": [
    "### Not a Generator Either"
   ]
  },
  {
   "cell_type": "code",
   "execution_count": 10,
   "id": "f98c661b",
   "metadata": {
    "slideshow": {
     "slide_type": "fragment"
    }
   },
   "outputs": [
    {
     "name": "stdout",
     "output_type": "stream",
     "text": [
      "[0, 1, 2, 3, 4, 5, 6, 7, 8, 9]\n",
      "[0, 1, 2, 3, 4, 5, 6, 7, 8, 9]\n",
      "7\n"
     ]
    }
   ],
   "source": [
    "print(list(range10), list(range10), range10[7], sep='\\n')"
   ]
  },
  {
   "cell_type": "markdown",
   "id": "04275d39",
   "metadata": {
    "slideshow": {
     "slide_type": "slide"
    }
   },
   "source": [
    "# Python3 Goodies"
   ]
  },
  {
   "cell_type": "markdown",
   "id": "fd30ad41",
   "metadata": {
    "slideshow": {
     "slide_type": "fragment"
    }
   },
   "source": [
    "- you no longer have to inherit classes from objects!!!"
   ]
  },
  {
   "cell_type": "markdown",
   "id": "5408d6de",
   "metadata": {
    "slideshow": {
     "slide_type": "fragment"
    }
   },
   "source": [
    "- enhanced pack/unpack operators"
   ]
  },
  {
   "cell_type": "markdown",
   "id": "9a3fe09b",
   "metadata": {
    "slideshow": {
     "slide_type": "fragment"
    }
   },
   "source": [
    "- relative imports"
   ]
  },
  {
   "cell_type": "markdown",
   "id": "fc975e5b",
   "metadata": {
    "slideshow": {
     "slide_type": "fragment"
    }
   },
   "source": [
    "- new concurrency mechanism"
   ]
  },
  {
   "cell_type": "markdown",
   "id": "746064c6",
   "metadata": {
    "slideshow": {
     "slide_type": "skip"
    }
   },
   "source": [
    "- etc."
   ]
  },
  {
   "cell_type": "markdown",
   "id": "28ee7401",
   "metadata": {
    "slideshow": {
     "slide_type": "slide"
    }
   },
   "source": [
    "## The New, Better Asterisk\n",
    "- Known as an tuple pack/unpack operator\n",
    "- Has undergone a major overhaul"
   ]
  },
  {
   "cell_type": "markdown",
   "id": "56b23fe8",
   "metadata": {
    "slideshow": {
     "slide_type": "slide"
    }
   },
   "source": [
    "### You can combine lists/tuples/sets"
   ]
  },
  {
   "cell_type": "code",
   "execution_count": 11,
   "id": "598fe4d3",
   "metadata": {
    "slideshow": {
     "slide_type": "fragment"
    }
   },
   "outputs": [
    {
     "data": {
      "text/plain": [
       "[1, 2, 3, 4, 5, 6, 8, 7]"
      ]
     },
     "execution_count": 11,
     "metadata": {},
     "output_type": "execute_result"
    }
   ],
   "source": [
    "[1, *[2, 3], 4, *(5, 6), *{7, 8}]"
   ]
  },
  {
   "cell_type": "markdown",
   "id": "4d584d8f",
   "metadata": {
    "slideshow": {
     "slide_type": "slide"
    }
   },
   "source": [
    "### You can use it to group elements in tuple assignments\n",
    "And cover for either missing or unknown quantity"
   ]
  },
  {
   "cell_type": "code",
   "execution_count": 12,
   "id": "ec543f22",
   "metadata": {
    "slideshow": {
     "slide_type": "fragment"
    }
   },
   "outputs": [
    {
     "name": "stdout",
     "output_type": "stream",
     "text": [
      "[] camelCase\n"
     ]
    }
   ],
   "source": [
    "*head, tail = 'camelCase'.split('_')\n",
    "print(head, tail)"
   ]
  },
  {
   "cell_type": "code",
   "execution_count": 13,
   "id": "34f986ff",
   "metadata": {
    "slideshow": {
     "slide_type": "fragment"
    }
   },
   "outputs": [
    {
     "name": "stdout",
     "output_type": "stream",
     "text": [
      "camelCase []\n"
     ]
    }
   ],
   "source": [
    "head, *tail = 'camelCase'.split('_')\n",
    "print(head, tail)"
   ]
  },
  {
   "cell_type": "code",
   "execution_count": 14,
   "id": "132f14df",
   "metadata": {
    "slideshow": {
     "slide_type": "fragment"
    }
   },
   "outputs": [
    {
     "name": "stdout",
     "output_type": "stream",
     "text": [
      "proper [] snake\n"
     ]
    }
   ],
   "source": [
    "head, *middle, tail = 'proper_snake'.split('_')\n",
    "print(head, middle, tail)"
   ]
  },
  {
   "cell_type": "code",
   "execution_count": 15,
   "id": "442bd6cb",
   "metadata": {
    "slideshow": {
     "slide_type": "fragment"
    }
   },
   "outputs": [
    {
     "name": "stdout",
     "output_type": "stream",
     "text": [
      "proper ['very', 'very', 'long'] snake\n"
     ]
    }
   ],
   "source": [
    "head, *middle, tail = 'proper_very_very_long_snake'.split('_')\n",
    "print(head, middle, tail)"
   ]
  },
  {
   "cell_type": "markdown",
   "id": "f5430a7c",
   "metadata": {
    "slideshow": {
     "slide_type": "slide"
    }
   },
   "source": [
    "### But what it is it good for?!"
   ]
  },
  {
   "cell_type": "markdown",
   "id": "a987c1f7",
   "metadata": {
    "slideshow": {
     "slide_type": "fragment"
    }
   },
   "source": [
    "#### You want to split an email user:\n",
    "- First name\n",
    "- Last name\n",
    "- Do they have middle name?    "
   ]
  },
  {
   "cell_type": "code",
   "execution_count": 16,
   "id": "90b71c7c",
   "metadata": {
    "slideshow": {
     "slide_type": "fragment"
    }
   },
   "outputs": [
    {
     "name": "stdout",
     "output_type": "stream",
     "text": [
      "richard s spencer\n"
     ]
    }
   ],
   "source": [
    "first_name, *middle_name, last_name = 'richard.s.spencer'.split('.')\n",
    "print(first_name, *middle_name, last_name)"
   ]
  },
  {
   "cell_type": "code",
   "execution_count": 17,
   "id": "a08b362d",
   "metadata": {
    "slideshow": {
     "slide_type": "fragment"
    }
   },
   "outputs": [
    {
     "name": "stdout",
     "output_type": "stream",
     "text": [
      "mark geyzer\n"
     ]
    }
   ],
   "source": [
    "first_name, *middle_name, last_name = 'mark.geyzer'.split('.')\n",
    "print(first_name, *middle_name, last_name)"
   ]
  },
  {
   "cell_type": "markdown",
   "id": "8de69404",
   "metadata": {
    "slideshow": {
     "slide_type": "slide"
    }
   },
   "source": [
    "#### Split and Map DB record"
   ]
  },
  {
   "cell_type": "markdown",
   "id": "89d78516",
   "metadata": {},
   "source": [
    "```python\n",
    "key, selector, *rest_of_fields = cursor.fetchone()\n",
    "target_map = good_map if selector else bad_map\n",
    "target_map[key] = rest_of_fields\n",
    "```"
   ]
  },
  {
   "cell_type": "markdown",
   "id": "973460e5",
   "metadata": {
    "slideshow": {
     "slide_type": "slide"
    }
   },
   "source": [
    "### Use asterisk to enforce proper API use"
   ]
  },
  {
   "cell_type": "code",
   "execution_count": 18,
   "id": "eae84450",
   "metadata": {
    "slideshow": {
     "slide_type": "fragment"
    }
   },
   "outputs": [],
   "source": [
    "def foo(pos_arg, *, kwarg1, kwarg2=None, kwarg3):\n",
    "    print(f'Positional arg: {pos_arg}; kwarg1: {kwarg1}; kwarg2: {kwarg2}; kwarg3: {kwarg3}')"
   ]
  },
  {
   "cell_type": "code",
   "execution_count": 19,
   "id": "0c5d668b",
   "metadata": {
    "slideshow": {
     "slide_type": "fragment"
    }
   },
   "outputs": [
    {
     "ename": "TypeError",
     "evalue": "foo() takes 1 positional argument but 4 were given",
     "output_type": "error",
     "traceback": [
      "\u001b[1;31m---------------------------------------------------------------------------\u001b[0m",
      "\u001b[1;31mTypeError\u001b[0m                                 Traceback (most recent call last)",
      "\u001b[1;32m<ipython-input-19-e0e0ba627b2e>\u001b[0m in \u001b[0;36m<module>\u001b[1;34m\u001b[0m\n\u001b[1;32m----> 1\u001b[1;33m \u001b[0mfoo\u001b[0m\u001b[1;33m(\u001b[0m\u001b[1;36m1\u001b[0m\u001b[1;33m,\u001b[0m \u001b[1;36m2\u001b[0m\u001b[1;33m,\u001b[0m \u001b[1;36m3\u001b[0m\u001b[1;33m,\u001b[0m \u001b[1;36m4\u001b[0m\u001b[1;33m)\u001b[0m\u001b[1;33m\u001b[0m\u001b[1;33m\u001b[0m\u001b[0m\n\u001b[0m",
      "\u001b[1;31mTypeError\u001b[0m: foo() takes 1 positional argument but 4 were given"
     ]
    }
   ],
   "source": [
    "foo(1, 2, 3, 4)"
   ]
  },
  {
   "cell_type": "code",
   "execution_count": 20,
   "id": "c8b5a286",
   "metadata": {
    "slideshow": {
     "slide_type": "fragment"
    }
   },
   "outputs": [
    {
     "ename": "TypeError",
     "evalue": "foo() missing 1 required keyword-only argument: 'kwarg3'",
     "output_type": "error",
     "traceback": [
      "\u001b[1;31m---------------------------------------------------------------------------\u001b[0m",
      "\u001b[1;31mTypeError\u001b[0m                                 Traceback (most recent call last)",
      "\u001b[1;32m<ipython-input-20-3187bab0944f>\u001b[0m in \u001b[0;36m<module>\u001b[1;34m\u001b[0m\n\u001b[1;32m----> 1\u001b[1;33m \u001b[0mfoo\u001b[0m\u001b[1;33m(\u001b[0m\u001b[1;36m1\u001b[0m\u001b[1;33m,\u001b[0m \u001b[0mkwarg1\u001b[0m\u001b[1;33m=\u001b[0m\u001b[1;36m2\u001b[0m\u001b[1;33m)\u001b[0m\u001b[1;33m\u001b[0m\u001b[1;33m\u001b[0m\u001b[0m\n\u001b[0m",
      "\u001b[1;31mTypeError\u001b[0m: foo() missing 1 required keyword-only argument: 'kwarg3'"
     ]
    }
   ],
   "source": [
    "foo(1, kwarg1=2)"
   ]
  },
  {
   "cell_type": "code",
   "execution_count": 21,
   "id": "3e605fec",
   "metadata": {
    "slideshow": {
     "slide_type": "fragment"
    }
   },
   "outputs": [
    {
     "name": "stdout",
     "output_type": "stream",
     "text": [
      "Positional arg: 1; kwarg1: 2; kwarg2: None; kwarg3: 4\n"
     ]
    }
   ],
   "source": [
    "foo(1, kwarg1=2, kwarg3=4)"
   ]
  },
  {
   "cell_type": "markdown",
   "id": "43953822",
   "metadata": {
    "slideshow": {
     "slide_type": "slide"
    }
   },
   "source": [
    "### Double asterisk was enhanced too"
   ]
  },
  {
   "cell_type": "code",
   "execution_count": 22,
   "id": "03a76e39",
   "metadata": {
    "slideshow": {
     "slide_type": "fragment"
    }
   },
   "outputs": [
    {
     "data": {
      "text/plain": [
       "{'The nice': 'way',\n",
       " 'to extend': 'a dictionary',\n",
       " 'you have always': 'dreamt of',\n",
       " 'now': 'you have it'}"
      ]
     },
     "execution_count": 22,
     "metadata": {},
     "output_type": "execute_result"
    }
   ],
   "source": [
    "{'The nice': 'way', **{'to extend': 'a dictionary'}, 'you have always': 'dreamt of', **{'now': 'you have it'}}"
   ]
  },
  {
   "cell_type": "markdown",
   "id": "a70632ac",
   "metadata": {
    "slideshow": {
     "slide_type": "fragment"
    }
   },
   "source": [
    "About dictionaries - starting from 3.7, they are **ordered**!"
   ]
  },
  {
   "cell_type": "markdown",
   "id": "d62b54df",
   "metadata": {
    "slideshow": {
     "slide_type": "slide"
    }
   },
   "source": [
    "## About keyword arguments"
   ]
  },
  {
   "cell_type": "markdown",
   "id": "343ec842",
   "metadata": {
    "slideshow": {
     "slide_type": "fragment"
    }
   },
   "source": [
    "- long awaited fix - the definition below would not work as expected in Python2\n",
    "\n",
    "```python\n",
    "def foo1(arg, *args, kw_with_default='None', **kwargs):\n",
    "    pass\n",
    "```"
   ]
  },
  {
   "cell_type": "markdown",
   "id": "0e5f5f55",
   "metadata": {
    "slideshow": {
     "slide_type": "fragment"
    }
   },
   "source": [
    "`kw_with_default` would have been considered a **positional** parameter in a call"
   ]
  },
  {
   "cell_type": "markdown",
   "id": "21ca2c39",
   "metadata": {
    "slideshow": {
     "slide_type": "slide"
    }
   },
   "source": [
    "## Dotted Relative Import\n",
    "\n",
    "```\n",
    "package\n",
    "   |\n",
    "   > subpackage\n",
    "        |\n",
    "        > imported.py\n",
    "        > importer.py\n",
    "```"
   ]
  },
  {
   "cell_type": "markdown",
   "id": "16c0f3be",
   "metadata": {
    "slideshow": {
     "slide_type": "slide"
    }
   },
   "source": [
    "In *importer* - instead of \n",
    "```python\n",
    "from package.subpackage import imported\n",
    "```\n",
    "you can write\n",
    "```python\n",
    "from . import imported\n",
    "```\n",
    "or \n",
    "```python\n",
    "from .imported import some_api\n",
    "```\n",
    "\n"
   ]
  },
  {
   "cell_type": "markdown",
   "id": "0b168583",
   "metadata": {
    "slideshow": {
     "slide_type": "slide"
    }
   },
   "source": [
    "## New concurrency - async\n",
    "- for IO-bound functionality\n",
    "- event-based loop\n",
    "- not trivial!!"
   ]
  },
  {
   "cell_type": "code",
   "execution_count": 23,
   "id": "00d48d0e",
   "metadata": {
    "slideshow": {
     "slide_type": "slide"
    }
   },
   "outputs": [],
   "source": [
    "import asyncio\n",
    "\n",
    "async def factorial(name, number):\n",
    "    f = 1\n",
    "    for i in range(2, number + 1):\n",
    "        print(f\"Task {name}: Compute factorial({number}), currently i={i}...\")\n",
    "        await asyncio.sleep(2)\n",
    "        f *= i\n",
    "    print(f\"Task {name}: factorial({number}) = {f}\")\n",
    "    return f\n",
    "\n",
    "async def main():\n",
    "    # Schedule three calls *concurrently*:\n",
    "    L = await asyncio.gather(\n",
    "        factorial(\"A\", 2),\n",
    "        factorial(\"B\", 3),\n",
    "        factorial(\"C\", 4),\n",
    "    )\n",
    "    print(L)"
   ]
  },
  {
   "cell_type": "code",
   "execution_count": 24,
   "id": "e234476e",
   "metadata": {
    "slideshow": {
     "slide_type": "slide"
    }
   },
   "outputs": [
    {
     "name": "stdout",
     "output_type": "stream",
     "text": [
      "Task A: Compute factorial(2), currently i=2...\n",
      "Task B: Compute factorial(3), currently i=2...\n",
      "Task C: Compute factorial(4), currently i=2...\n",
      "Task A: factorial(2) = 2\n",
      "Task B: Compute factorial(3), currently i=3...\n",
      "Task C: Compute factorial(4), currently i=3...\n",
      "Task B: factorial(3) = 6\n",
      "Task C: Compute factorial(4), currently i=4...\n",
      "Task C: factorial(4) = 24\n",
      "[2, 6, 24]\n"
     ]
    }
   ],
   "source": [
    "await main()"
   ]
  },
  {
   "cell_type": "markdown",
   "id": "585c52ee",
   "metadata": {
    "slideshow": {
     "slide_type": "slide"
    }
   },
   "source": [
    "## Etc."
   ]
  },
  {
   "cell_type": "markdown",
   "id": "00a3af7c",
   "metadata": {
    "slideshow": {
     "slide_type": "slide"
    }
   },
   "source": [
    "### Standard Caching API"
   ]
  },
  {
   "cell_type": "code",
   "execution_count": 25,
   "id": "5919e4db",
   "metadata": {
    "slideshow": {
     "slide_type": "fragment"
    }
   },
   "outputs": [],
   "source": [
    "from functools import lru_cache\n",
    "\n",
    "call_args = []\n",
    "\n",
    "@lru_cache(maxsize=3)\n",
    "def show_time(x): \n",
    "    call_args.append(x)\n",
    "    print(f'Called with {x}')"
   ]
  },
  {
   "cell_type": "code",
   "execution_count": 26,
   "id": "68d90340",
   "metadata": {
    "slideshow": {
     "slide_type": "slide"
    }
   },
   "outputs": [
    {
     "name": "stdout",
     "output_type": "stream",
     "text": [
      "Called with 1\n",
      "Called with 2\n",
      "Called with 3\n"
     ]
    }
   ],
   "source": [
    "show_time(1); show_time(2); show_time(3)"
   ]
  },
  {
   "cell_type": "code",
   "execution_count": 27,
   "id": "b6593e1b",
   "metadata": {
    "slideshow": {
     "slide_type": "fragment"
    }
   },
   "outputs": [
    {
     "name": "stdout",
     "output_type": "stream",
     "text": [
      "Called with 4\n",
      "Called with 1\n"
     ]
    }
   ],
   "source": [
    "show_time(1); show_time(2); show_time(3); show_time(4); show_time(1); show_time(3)"
   ]
  },
  {
   "cell_type": "code",
   "execution_count": 28,
   "id": "4b060e06",
   "metadata": {
    "slideshow": {
     "slide_type": "fragment"
    }
   },
   "outputs": [
    {
     "name": "stdout",
     "output_type": "stream",
     "text": [
      "1 2 3 4 1\n"
     ]
    }
   ],
   "source": [
    "print(*call_args)"
   ]
  },
  {
   "cell_type": "markdown",
   "id": "a88f792e",
   "metadata": {
    "slideshow": {
     "slide_type": "slide"
    }
   },
   "source": [
    "### Simpler to Ignore Exceptions\n",
    "Tired of\n",
    "```python\n",
    "try:\n",
    "    <do something>\n",
    "except SomeException:\n",
    "    pass\n",
    "```"
   ]
  },
  {
   "cell_type": "code",
   "execution_count": 29,
   "id": "144463f3",
   "metadata": {
    "slideshow": {
     "slide_type": "fragment"
    }
   },
   "outputs": [],
   "source": [
    "from contextlib import suppress\n",
    "with suppress(ZeroDivisionError):\n",
    "    1 / 0"
   ]
  }
 ],
 "metadata": {
  "celltoolbar": "Slideshow",
  "kernelspec": {
   "display_name": "Python 3",
   "language": "python",
   "name": "python3"
  },
  "language_info": {
   "codemirror_mode": {
    "name": "ipython",
    "version": 3
   },
   "file_extension": ".py",
   "mimetype": "text/x-python",
   "name": "python",
   "nbconvert_exporter": "python",
   "pygments_lexer": "ipython3",
   "version": "3.8.10"
  }
 },
 "nbformat": 4,
 "nbformat_minor": 5
}
